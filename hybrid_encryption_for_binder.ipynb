{
 "cells": [
  {
   "cell_type": "markdown",
   "id": "0049ce52",
   "metadata": {
    "heading_collapsed": true
   },
   "source": [
    "# Necessary imports\n",
    "Run this cell to have all the necessary imports for this seminar."
   ]
  },
  {
   "cell_type": "code",
   "execution_count": null,
   "id": "7777c988",
   "metadata": {
    "hidden": true,
    "lines_to_next_cell": 2
   },
   "outputs": [],
   "source": [
    "import secrets\n",
    "\n",
    "from cryptography.hazmat.primitives.asymmetric import rsa\n",
    "\n",
    "# the API from the previous seminar\n",
    "from server_communication import aes_encrypt, aes_decrypt, rsa_encrypt, rsa_decrypt\n",
    "from server_communication import send_message, recv_message, publish_key, fetch_key\n",
    "\n",
    "# new API functions for this seminar\n",
    "from server_communication import create_mac, verify_mac\n",
    "from server_communication import create_signature, verify_signature\n",
    "from utils import flip_random_bit\n",
    "from measurements import measure_aes_speed, measure_rsa_speed"
   ]
  },
  {
   "cell_type": "markdown",
   "id": "2033c47b",
   "metadata": {},
   "source": [
    "# Part 1: Hybrid encryption - combining RSA and AES"
   ]
  },
  {
   "cell_type": "markdown",
   "id": "6dfd48ce",
   "metadata": {
    "heading_collapsed": true
   },
   "source": [
    "## Motivation"
   ]
  },
  {
   "cell_type": "markdown",
   "id": "aa436996",
   "metadata": {
    "hidden": true
   },
   "source": [
    "The speed of AES and RSA algorithms differs. While RSA can be used to **share\n",
    "a key** publicly, it is not that practical for **large** messages.\n",
    "\n",
    "RSA works over integers modulo $N$. Therefore larger values have to be\n",
    "split into parts and processed separately. Maximal message length is:\n",
    " - 223 bytes for 4096bit RSA key.\n",
    " - 95 bytes for 2048bit RSA key.\n",
    " - 31 bytes for 1024bit RSA key.\n",
    "\n",
    "We can test the encryption/decryption speed by encrypting messages of\n",
    "different sizes. AES encrypts much larger messages in *rougly the same time*."
   ]
  },
  {
   "cell_type": "code",
   "execution_count": null,
   "id": "ff9f770d",
   "metadata": {
    "hidden": true
   },
   "outputs": [],
   "source": [
    "symmetric_key = secrets.token_bytes(16)\n",
    "private_key = rsa.generate_private_key(public_exponent=65537, key_size=4096)\n",
    "\n",
    "# TODO: play with the length of the message\n",
    "message_aes = b\"\\x00\" * 10000000\n",
    "message_rsa = b\"\\x00\" * 20000\n",
    "print(f\"AES message is {len(message_aes)/len(message_rsa) } times larger than RSA.\\n\")\n",
    "\n",
    "measure_aes_speed(symmetric_key, message_aes)\n",
    "measure_rsa_speed(private_key, message_rsa)"
   ]
  },
  {
   "cell_type": "markdown",
   "id": "990645e3",
   "metadata": {},
   "source": [
    "## Task 1: <font color='gray'>Hybrid communication between a bank and a customer</font>"
   ]
  },
  {
   "cell_type": "markdown",
   "id": "cf0fd146",
   "metadata": {},
   "source": [
    "Replicate the worked-out paper diagram in front of you. **Decide**, who\n",
    "represents which party (we have **the bank** and **the customer**).\n",
    "\n",
    "Then carry out **the following communication** between the bank and the customer:\n",
    " - The bank publishes an RSA public key.\n",
    " - Use RSA encryption to share a symmetric key.\n",
    " - Use AES to exchange the following messages:\n",
    "\n",
    "*Bank*: `\"What amount do you want to transfer?\"`</br>\n",
    "*Customer*: `\"amount: 000000100.00 USD\"`"
   ]
  },
  {
   "cell_type": "code",
   "execution_count": null,
   "id": "391ad568",
   "metadata": {},
   "outputs": [],
   "source": [
    "# TODO: Fill in your and your classmate's UCOs after you've picked\n",
    "#       your roles (the bank, the customer).\n",
    "bank_uco = __TODO__\n",
    "customer_uco = __TODO__"
   ]
  },
  {
   "cell_type": "markdown",
   "id": "72de8d7f",
   "metadata": {},
   "source": [
    "### The API and key generation functions"
   ]
  },
  {
   "cell_type": "markdown",
   "id": "24790bfa",
   "metadata": {},
   "source": [
    "API functions' signatures:\n",
    "```python\n",
    "aes_encrypt(key: bytes, message: bytes) -> bytes\n",
    "aes_decrypt(key: bytes, ciphertext: bytes) -> bytes\n",
    "rsa_encrypt(key: rsa.RSAPublicKey, plaintext: bytes) -> bytes\n",
    "rsa_decrypt(key: rsa.RSAPrivateKey, ciphertext: bytes) -> bytes\n",
    "\n",
    "send_message(uco_from: int, uco_to: int, content: bytes) -> str\n",
    "recv_message(uco: int) -> Mapping[str, Union[int, bytes]]\n",
    "publish_key(uco: int, key: rsa.RSAPublicKey) -> str\n",
    "fetch_key(uco: int) -> Optional[rsa.RSAPublicKey]\n",
    "```\n",
    "\n",
    "Key generation functions' signatures:\n",
    "```python\n",
    "secrets.token_bytes(nbytes:int) -> bytes\n",
    "rsa.generate_private_key(public_exponent:int, key_size:int) -> rsa.RSAPrivateKey\n",
    "rsa.RSAPrivateKey.public_key() -> rsa.RSAPublicKey\n",
    "```"
   ]
  },
  {
   "cell_type": "markdown",
   "id": "2d48183a",
   "metadata": {},
   "source": [
    "### Bank's point of view"
   ]
  },
  {
   "cell_type": "code",
   "execution_count": null,
   "id": "270f0df3",
   "metadata": {},
   "outputs": [],
   "source": [
    "# TODO: Generate a private/public key pair."
   ]
  },
  {
   "cell_type": "code",
   "execution_count": null,
   "id": "44d38bb0",
   "metadata": {},
   "outputs": [],
   "source": [
    "# TODO: Publish your public key."
   ]
  },
  {
   "cell_type": "code",
   "execution_count": null,
   "id": "ed457869",
   "metadata": {
    "lines_to_next_cell": 2
   },
   "outputs": [],
   "source": [
    "# ...wait.. for the customer's AES key encrypted using your RSA public key\n",
    "# TODO: Use RSA to decrypt the AES key from the customer and **save** it."
   ]
  },
  {
   "cell_type": "code",
   "execution_count": null,
   "id": "47af99ec",
   "metadata": {},
   "outputs": [],
   "source": [
    "# TODO: Send an AES encrypted question: \"What amount do you want to transfer?\""
   ]
  },
  {
   "cell_type": "code",
   "execution_count": null,
   "id": "c77fe44e",
   "metadata": {},
   "outputs": [],
   "source": [
    "# ...wait.. for the customer's response\n",
    "# TODO: Use AES to decrypt the response."
   ]
  },
  {
   "cell_type": "markdown",
   "id": "045d2415",
   "metadata": {},
   "source": [
    "### Customer's point of view"
   ]
  },
  {
   "cell_type": "code",
   "execution_count": null,
   "id": "c9a0ae88",
   "metadata": {},
   "outputs": [],
   "source": [
    "# ...wait.. for the bank's public key\n",
    "# TODO: Fetch the bank's public key and save it."
   ]
  },
  {
   "cell_type": "code",
   "execution_count": null,
   "id": "47f003e7",
   "metadata": {},
   "outputs": [],
   "source": [
    "# TODO: Securely generate a new AES key."
   ]
  },
  {
   "cell_type": "code",
   "execution_count": null,
   "id": "08e38fbf",
   "metadata": {},
   "outputs": [],
   "source": [
    "# TODO: Encrypt the AES key using bank's public RSA key.\n",
    "# TODO: Send the encrypted key to the bank."
   ]
  },
  {
   "cell_type": "code",
   "execution_count": null,
   "id": "c97dab0e",
   "metadata": {},
   "outputs": [],
   "source": [
    "# ...wait.. for the bank to send you the question\n",
    "# TODO: Decrypt the bank's question."
   ]
  },
  {
   "cell_type": "code",
   "execution_count": null,
   "id": "6745e2bc",
   "metadata": {},
   "outputs": [],
   "source": [
    "# TODO: Send the amount you want to transfer to the bank."
   ]
  },
  {
   "cell_type": "markdown",
   "id": "3ace6188",
   "metadata": {},
   "source": [
    "## Task 2: <font color='gray'>Issue with message integrity</font>"
   ]
  },
  {
   "cell_type": "markdown",
   "id": "4d6fd8a7",
   "metadata": {},
   "source": [
    "Now you will work with the ciphertext corresponding to the encrypted **amount**\n",
    "the customer wishes to send. Use `flip_random_bit` to change a single\n",
    "bit in the ciphertext and then try to decrypt it. What happens?\n"
   ]
  },
  {
   "cell_type": "code",
   "execution_count": null,
   "id": "c482eeeb",
   "metadata": {},
   "outputs": [],
   "source": [
    "from utils import flip_random_bit\n",
    "\n",
    "help(flip_random_bit)"
   ]
  },
  {
   "cell_type": "code",
   "execution_count": null,
   "id": "c14a5f6e",
   "metadata": {},
   "outputs": [],
   "source": [
    "# TODO: Use the encrypted message \"amount:...\" as the ciphertext\n",
    "ciphertext = __TODO__\n",
    "# TODO: Use flip_random_bit to change the original ciphertext and try\n",
    "#       to decrypt it with the symmetric key. Execute this cell multiple times.\n",
    "altered_ciphertext = __TODO__\n",
    "altered_plaintext = aes_decrypt(__TODO__, altered_ciphertext)\n",
    "# TODO: Compare the expected plaintext and the one you get."
   ]
  },
  {
   "cell_type": "markdown",
   "id": "207e4f4d",
   "metadata": {},
   "source": [
    "# Part 2: Message Authentication & Integrity"
   ]
  },
  {
   "cell_type": "markdown",
   "id": "a69e631d",
   "metadata": {},
   "source": [
    "## Task 3: <font color='gray'>Solution #1 Message Authentication Code (MAC)</gray>"
   ]
  },
  {
   "cell_type": "markdown",
   "id": "bc758704",
   "metadata": {},
   "source": [
    "To check the integrity of a message we can **use also the MAC**, concatenated to the **ciphertext**.\n",
    "We apply **Encrypt-then-MAC** scheme, i.e. we MAC **the ciphertext** to ensure its integrity.\n",
    "Use additional functions:\n",
    "```python\n",
    "create_mac(key: bytes, data: bytes) -> bytes\n",
    "verify_mac(key: bytes, data: bytes, mac: bytes) -> bool\n",
    "```\n",
    "\n",
    "**Note:** In a real-world use case we must use a different key for the MAC. Here, we reuse the symmetric key for simplicity."
   ]
  },
  {
   "cell_type": "code",
   "execution_count": null,
   "id": "f8beed18",
   "metadata": {},
   "outputs": [],
   "source": [
    "# [OPTIONAL TODO]: Check the source code of the `create_mac` function. Is it familiar?\n",
    "import inspect\n",
    "\n",
    "print(inspect.getsource(create_mac))"
   ]
  },
  {
   "cell_type": "markdown",
   "id": "bc29d2b9",
   "metadata": {},
   "source": [
    "**Task:** Try sending the message with the \"amount: ...\" again, but this time **include the MAC**"
   ]
  },
  {
   "cell_type": "markdown",
   "id": "c0b71515",
   "metadata": {},
   "source": [
    "### Customer's point of view"
   ]
  },
  {
   "cell_type": "code",
   "execution_count": null,
   "id": "4f218cce",
   "metadata": {},
   "outputs": [],
   "source": [
    "# TODO: Encrypt the \"amount: ... \" message."
   ]
  },
  {
   "cell_type": "code",
   "execution_count": null,
   "id": "7b029666",
   "metadata": {},
   "outputs": [],
   "source": [
    "# TODO: Create the MAC value."
   ]
  },
  {
   "cell_type": "code",
   "execution_count": null,
   "id": "212d1500",
   "metadata": {},
   "outputs": [],
   "source": [
    "# TODO: Send `mac + ciphertext` to the bank."
   ]
  },
  {
   "cell_type": "markdown",
   "id": "8310413d",
   "metadata": {},
   "source": [
    "### Bank's point of view"
   ]
  },
  {
   "cell_type": "code",
   "execution_count": null,
   "id": "5a9e0d8c",
   "metadata": {},
   "outputs": [],
   "source": [
    "# TODO: Receive the new encrypted message with the MAC prefixed."
   ]
  },
  {
   "cell_type": "code",
   "execution_count": null,
   "id": "01fced96",
   "metadata": {},
   "outputs": [],
   "source": [
    "# TODO: The MAC is a single block of data prepended to the ciphertext.\n",
    "#       Therefore you need to split the message into 16B `mac` and the ciphertext,\n",
    "#       which is the rest of the data.\n",
    "# TODO: Verify the MAC using `verify_mac`\n",
    "# TODO: Only if the MAC verifies, decrypt the ciphertext using the symmetric key."
   ]
  },
  {
   "cell_type": "markdown",
   "id": "227313dd",
   "metadata": {},
   "source": [
    "## Task 4: <font color='gray'>Solution #2 Digital Signature</gray>"
   ]
  },
  {
   "cell_type": "markdown",
   "id": "1d65211c",
   "metadata": {},
   "source": [
    "Instead of sending a MAC of the message, the sender (the customer in our example)\n",
    "can **digitally sign** the message and the receiver (the bank) can **verify the signature**.\n",
    "Use additional functions `create_signature` and `verify_signature`:\n",
    "```python\n",
    "create_signature(private_key: rsa.RSAPrivateKey, data: bytes) -> bytes\n",
    "verify_signature(\n",
    "    public_key: rsa.RSAPublicKey, data: bytes, signature: bytes\n",
    ") -> bool\n",
    "```"
   ]
  },
  {
   "cell_type": "markdown",
   "id": "15f4b4e5",
   "metadata": {},
   "source": [
    "**Task:** Try sending the message with the \"amount: ...\" again, but this time **include the digital signature**"
   ]
  },
  {
   "cell_type": "markdown",
   "id": "1b8098c3",
   "metadata": {},
   "source": [
    "### Customer's point of view"
   ]
  },
  {
   "cell_type": "code",
   "execution_count": null,
   "id": "1668d5d1",
   "metadata": {},
   "outputs": [],
   "source": [
    "# TODO: Generate an RSA private/public keypair for signing."
   ]
  },
  {
   "cell_type": "code",
   "execution_count": null,
   "id": "ba171c92",
   "metadata": {},
   "outputs": [],
   "source": [
    "# TODO: Publish your public RSA key."
   ]
  },
  {
   "cell_type": "code",
   "execution_count": null,
   "id": "50b9b052",
   "metadata": {},
   "outputs": [],
   "source": [
    "# TODO: Create a signature of the encrypted message with the \"amount: ...\".\n",
    "# TODO: Send both the `signature + ciphertext`."
   ]
  },
  {
   "cell_type": "markdown",
   "id": "e5c1746f",
   "metadata": {},
   "source": [
    "### Bank's point of view"
   ]
  },
  {
   "cell_type": "code",
   "execution_count": null,
   "id": "d7666c05",
   "metadata": {},
   "outputs": [],
   "source": [
    "# TODO: Fetch customer's public key.\n",
    "customer_public_key = __TODO__\n",
    "# TODO: Receive customers signature and message.\n",
    "# TODO: Split the received data into the signature,\n",
    "#       which is `customer_key.key_size // 8` bytes long and\n",
    "#       into the actual ciphertext, which is the rest.\n",
    "signature_byte_size = customer_public_key.key_size // 8\n",
    "# TODO: Only if the signature verifies, you may decrypt the ciphertext."
   ]
  }
 ],
 "metadata": {
  "jupytext": {
   "formats": "ipynb,py:light"
  },
  "kernelspec": {
   "display_name": "Python 3 (ipykernel)",
   "language": "python",
   "name": "python3"
  },
  "language_info": {
   "codemirror_mode": {
    "name": "ipython",
    "version": 3
   },
   "file_extension": ".py",
   "mimetype": "text/x-python",
   "name": "python",
   "nbconvert_exporter": "python",
   "pygments_lexer": "ipython3",
   "version": "3.7.9"
  }
 },
 "nbformat": 4,
 "nbformat_minor": 5
}
