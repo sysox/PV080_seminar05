{
 "cells": [
  {
   "cell_type": "markdown",
   "id": "97f0c3d7",
   "metadata": {},
   "source": [
    "# Necessary imports\n",
    "Run this cell to have all the necessary imports for this seminar."
   ]
  },
  {
   "cell_type": "code",
   "execution_count": null,
   "id": "0b83a5bd",
   "metadata": {
    "lines_to_next_cell": 2
   },
   "outputs": [],
   "source": [
    "import secrets\n",
    "\n",
    "from cryptography.hazmat.primitives.asymmetric import rsa\n",
    "\n",
    "# the API from the previous seminar\n",
    "from server_communication import aes_encrypt, aes_decrypt, rsa_encrypt, rsa_decrypt\n",
    "from server_communication import send_message, recv_message, publish_key, fetch_key\n",
    "\n",
    "# new API functions for this seminar\n",
    "from server_communication import create_mac, verify_mac\n",
    "from server_communication import create_signature, verify_signature\n",
    "from utils import flip_random_bit\n",
    "from measurements import measure_aes_speed, measure_rsa_speed"
   ]
  },
  {
   "cell_type": "markdown",
   "id": "34fe08f8",
   "metadata": {
    "heading_collapsed": true
   },
   "source": [
    "# Part 1: Hybrid encryption - combining RSA and AES"
   ]
  },
  {
   "cell_type": "markdown",
   "id": "fd16fe03",
   "metadata": {
    "heading_collapsed": true,
    "hidden": true
   },
   "source": [
    "## Motivation"
   ]
  },
  {
   "cell_type": "markdown",
   "id": "06c5af0c",
   "metadata": {
    "hidden": true
   },
   "source": [
    "The speed of AES and RSA algorithms differs. While RSA can be used to **share\n",
    "a key** publicly, it is not that practical for **large** messages.\n",
    "\n",
    "RSA works over integers modulo $N$. Therefore larger values have to be\n",
    "split into parts and processed separately. Maximal message length is:\n",
    " - 223 bytes for 4096bit RSA key.\n",
    " - 95 bytes for 2048bit RSA key.\n",
    " - 31 bytes for 1024bit RSA key.\n",
    "\n",
    "We can test the encryption/decryption speed by encrypting messages of\n",
    "different sizes. AES encrypts much larger messages in *rougly the same time*."
   ]
  },
  {
   "cell_type": "code",
   "execution_count": null,
   "id": "e94dacb3",
   "metadata": {
    "hidden": true
   },
   "outputs": [],
   "source": [
    "symmetric_key = secrets.token_bytes(16)\n",
    "private_key = rsa.generate_private_key(public_exponent=65537, key_size=4096)\n",
    "\n",
    "# TODO: play with the length of the message\n",
    "message_aes = b\"\\x00\" * 10000000\n",
    "message_rsa = b\"\\x00\" * 20000\n",
    "print(f\"AES message is {len(message_aes)/len(message_rsa) } times larger than RSA.\\n\")\n",
    "\n",
    "measure_aes_speed(symmetric_key, message_aes)\n",
    "measure_rsa_speed(private_key, message_rsa)"
   ]
  },
  {
   "cell_type": "markdown",
   "id": "5e661f25",
   "metadata": {
    "heading_collapsed": true,
    "hidden": true
   },
   "source": [
    "## Task 1: <font color='gray'>Hybrid communication between a bank and a customer</font>"
   ]
  },
  {
   "cell_type": "markdown",
   "id": "9ae6823d",
   "metadata": {
    "hidden": true
   },
   "source": [
    "Replicate the worked-out paper diagram in front of you. **Decide**, who\n",
    "represents which party (we have **the bank** and **the customer**).\n",
    "\n",
    "Then carry out **the following communication** between the bank and the customer:\n",
    " - The bank publishes an RSA public key.\n",
    " - Use RSA encryption to share a symmetric key.\n",
    " - Use AES to exchange the following messages:\n",
    "\n",
    "*Bank*: `\"What amount do you want to transfer?\"`</br>\n",
    "*Customer*: `\"amount: 000000100.00 USD\"`"
   ]
  },
  {
   "cell_type": "code",
   "execution_count": null,
   "id": "206810a5",
   "metadata": {
    "hidden": true
   },
   "outputs": [],
   "source": [
    "# TODO: Fill in your and your classmate's UCOs after you've picked\n",
    "#       your roles (the bank, the customer).\n",
    "bank_uco = __TODO__\n",
    "customer_uco = __TODO__"
   ]
  },
  {
   "cell_type": "markdown",
   "id": "deb1f95a",
   "metadata": {
    "heading_collapsed": true,
    "hidden": true
   },
   "source": [
    "### The API and key generation functions"
   ]
  },
  {
   "cell_type": "markdown",
   "id": "f920d314",
   "metadata": {
    "hidden": true
   },
   "source": [
    "API functions' signatures:\n",
    "```python\n",
    "aes_encrypt(key: bytes, message: bytes) -> bytes\n",
    "aes_decrypt(key: bytes, ciphertext: bytes) -> bytes\n",
    "rsa_encrypt(key: rsa.RSAPublicKey, plaintext: bytes) -> bytes\n",
    "rsa_decrypt(key: rsa.RSAPrivateKey, ciphertext: bytes) -> bytes\n",
    "\n",
    "send_message(uco_from: int, uco_to: int, content: bytes) -> str\n",
    "recv_message(uco: int) -> Mapping[str, Union[int, bytes]]\n",
    "publish_key(uco: int, key: rsa.RSAPublicKey) -> str\n",
    "fetch_key(uco: int) -> Optional[rsa.RSAPublicKey]\n",
    "```\n",
    "\n",
    "Key generation functions' signatures:\n",
    "```python\n",
    "secrets.token_bytes(nbytes:int) -> bytes\n",
    "rsa.generate_private_key(public_exponent:int, key_size:int) -> rsa.RSAPrivateKey\n",
    "rsa.RSAPrivateKey.public_key() -> rsa.RSAPublicKey\n",
    "```"
   ]
  },
  {
   "cell_type": "markdown",
   "id": "8ab261b5",
   "metadata": {
    "heading_collapsed": true,
    "hidden": true
   },
   "source": [
    "### Bank's point of view"
   ]
  },
  {
   "cell_type": "code",
   "execution_count": null,
   "id": "027b94e1",
   "metadata": {
    "hidden": true
   },
   "outputs": [],
   "source": [
    "# TODO: Generate a private/public key pair."
   ]
  },
  {
   "cell_type": "code",
   "execution_count": null,
   "id": "19e179a4",
   "metadata": {
    "hidden": true
   },
   "outputs": [],
   "source": [
    "# TODO: Publish your public key."
   ]
  },
  {
   "cell_type": "code",
   "execution_count": null,
   "id": "d8092539",
   "metadata": {
    "hidden": true,
    "lines_to_next_cell": 2
   },
   "outputs": [],
   "source": [
    "# ...wait.. for the customer's AES key encrypted using your RSA public key\n",
    "# TODO: Use RSA to decrypt the AES key from the customer and **save** it."
   ]
  },
  {
   "cell_type": "code",
   "execution_count": null,
   "id": "c3757d11",
   "metadata": {
    "hidden": true
   },
   "outputs": [],
   "source": [
    "# TODO: Send an AES encrypted question: \"What amount do you want to transfer?\""
   ]
  },
  {
   "cell_type": "code",
   "execution_count": null,
   "id": "8918134f",
   "metadata": {
    "hidden": true,
    "lines_to_next_cell": 2,
    "solution2": "hidden",
    "solution2_first": true
   },
   "outputs": [],
   "source": [
    "# ...wait.. for the customer's response\n",
    "# TODO: Use AES to decrypt the response."
   ]
  },
  {
   "cell_type": "code",
   "execution_count": null,
   "id": "a6e4c777",
   "metadata": {
    "hidden": true,
    "solution2": "hidden"
   },
   "outputs": [],
   "source": [
    "# Solution uses UCOs of tutors\n",
    "bank_uco = 232886\n",
    "customer_uco = 445358"
   ]
  },
  {
   "cell_type": "code",
   "execution_count": null,
   "id": "f20fe2f2",
   "metadata": {
    "hidden": true,
    "solution2": "hidden"
   },
   "outputs": [],
   "source": [
    "# TODO: Generate a private/public key pair.\n",
    "bank_private_key = rsa.generate_private_key(public_exponent=65537, key_size=4096)\n",
    "bank_public_key = bank_private_key.public_key()"
   ]
  },
  {
   "cell_type": "code",
   "execution_count": null,
   "id": "efd7f1ea",
   "metadata": {
    "hidden": true,
    "solution2": "hidden"
   },
   "outputs": [],
   "source": [
    "# TODO: Publish your public key.\n",
    "publish_key(uco=bank_uco, key=bank_public_key)"
   ]
  },
  {
   "cell_type": "code",
   "execution_count": null,
   "id": "8ae59fe9",
   "metadata": {
    "hidden": true,
    "lines_to_next_cell": 2,
    "solution2": "hidden"
   },
   "outputs": [],
   "source": [
    "# ...wait.. for the customer's AES key encrypted using your RSA public key\n",
    "# TODO: Use RSA to decrypt the AES key from the customer and **save** it.\n",
    "encrypted_symmetric_key = recv_message(uco=bank_uco)[customer_uco]\n",
    "symmetric_key = rsa_decrypt(key=bank_private_key, ciphertext=encrypted_symmetric_key)"
   ]
  },
  {
   "cell_type": "code",
   "execution_count": null,
   "id": "b400e6b9",
   "metadata": {
    "hidden": true,
    "solution2": "hidden"
   },
   "outputs": [],
   "source": [
    "# TODO: Send an AES encrypted question: \"What amount do you want to transfer?\"\n",
    "ciphertext = aes_encrypt(\n",
    "    key=symmetric_key, message=b\"What amount do you want to transfer?\"\n",
    ")\n",
    "send_message(uco_from=bank_uco, uco_to=customer_uco, content=ciphertext)"
   ]
  },
  {
   "cell_type": "code",
   "execution_count": null,
   "id": "b93a3762",
   "metadata": {
    "hidden": true,
    "lines_to_next_cell": 2,
    "solution2": "hidden"
   },
   "outputs": [],
   "source": [
    "# ...wait.. for the customer's response\n",
    "# TODO: Use AES to decrypt the response.\n",
    "encrypted_msg = recv_message(uco=bank_uco)[customer_uco]\n",
    "plaintext = aes_decrypt(key=symmetric_key, ciphertext=encrypted_msg)\n",
    "\n",
    "print(plaintext)"
   ]
  },
  {
   "cell_type": "markdown",
   "id": "2b507d46",
   "metadata": {
    "heading_collapsed": true,
    "hidden": true
   },
   "source": [
    "### Customer's point of view"
   ]
  },
  {
   "cell_type": "code",
   "execution_count": null,
   "id": "9fd62274",
   "metadata": {
    "hidden": true
   },
   "outputs": [],
   "source": [
    "# ...wait.. for the bank's public key\n",
    "# TODO: Fetch the bank's public key and save it."
   ]
  },
  {
   "cell_type": "code",
   "execution_count": null,
   "id": "c160b774",
   "metadata": {
    "hidden": true
   },
   "outputs": [],
   "source": [
    "# TODO: Securely generate a new AES key."
   ]
  },
  {
   "cell_type": "code",
   "execution_count": null,
   "id": "166544c7",
   "metadata": {
    "hidden": true
   },
   "outputs": [],
   "source": [
    "# TODO: Encrypt the AES key using bank's public RSA key.\n",
    "# TODO: Send the encrypted key to the bank."
   ]
  },
  {
   "cell_type": "code",
   "execution_count": null,
   "id": "cba5e295",
   "metadata": {
    "hidden": true
   },
   "outputs": [],
   "source": [
    "# ...wait.. for the bank to send you the question\n",
    "# TODO: Decrypt the bank's question."
   ]
  },
  {
   "cell_type": "code",
   "execution_count": null,
   "id": "21a86113",
   "metadata": {
    "hidden": true,
    "solution2": "hidden",
    "solution2_first": true
   },
   "outputs": [],
   "source": [
    "# TODO: Send the amount you want to transfer to the bank."
   ]
  },
  {
   "cell_type": "code",
   "execution_count": null,
   "id": "481e7623",
   "metadata": {
    "hidden": true,
    "solution2": "hidden"
   },
   "outputs": [],
   "source": [
    "# ...wait.. for the bank's public key\n",
    "# TODO: Fetch the bank's public key and save it.\n",
    "bank_public_key = fetch_key(bank_uco)"
   ]
  },
  {
   "cell_type": "code",
   "execution_count": null,
   "id": "60733eca",
   "metadata": {
    "hidden": true,
    "solution2": "hidden"
   },
   "outputs": [],
   "source": [
    "# TODO: Securely generate a new AES key.\n",
    "symmetric_key = secrets.token_bytes(16)"
   ]
  },
  {
   "cell_type": "code",
   "execution_count": null,
   "id": "71fe52ed",
   "metadata": {
    "hidden": true,
    "solution2": "hidden"
   },
   "outputs": [],
   "source": [
    "# TODO: Encrypt the AES key using bank's public RSA key.\n",
    "# TODO: Send the encrypted key to the bank.\n",
    "encrypted_symmetric_key = rsa_encrypt(key=bank_public_key, plaintext=symmetric_key)\n",
    "send_message(uco_from=customer_uco, uco_to=bank_uco, content=encrypted_symmetric_key)"
   ]
  },
  {
   "cell_type": "code",
   "execution_count": null,
   "id": "a83ac331",
   "metadata": {
    "hidden": true,
    "solution2": "hidden"
   },
   "outputs": [],
   "source": [
    "# ...wait.. for the bank to send you the question\n",
    "# TODO: Decrypt the bank's question.\n",
    "encrypted_msg = recv_message(uco=customer_uco)[bank_uco]\n",
    "plaintext = aes_decrypt(key=symmetric_key, ciphertext=encrypted_msg)\n",
    "print(plaintext)"
   ]
  },
  {
   "cell_type": "code",
   "execution_count": null,
   "id": "06c53f70",
   "metadata": {
    "hidden": true,
    "solution2": "hidden"
   },
   "outputs": [],
   "source": [
    "# TODO: Send the amount you want to transfer to the bank.\n",
    "ciphertext = aes_encrypt(key=symmetric_key, message=b\"amount: 000000100.00 USD\")\n",
    "send_message(uco_from=customer_uco, uco_to=bank_uco, content=ciphertext)"
   ]
  },
  {
   "cell_type": "markdown",
   "id": "6209516d",
   "metadata": {
    "heading_collapsed": true,
    "hidden": true
   },
   "source": [
    "## Task 2: <font color='gray'>Issue with message integrity</font>"
   ]
  },
  {
   "cell_type": "markdown",
   "id": "e75fec01",
   "metadata": {
    "hidden": true
   },
   "source": [
    "Now you will work with the ciphertext corresponding to the encrypted **amount**\n",
    "the customer wishes to send. Use `flip_random_bit` to change a single\n",
    "bit in the ciphertext and then try to decrypt it. What happens?\n"
   ]
  },
  {
   "cell_type": "code",
   "execution_count": null,
   "id": "df2d9f17",
   "metadata": {
    "hidden": true
   },
   "outputs": [],
   "source": [
    "from utils import flip_random_bit\n",
    "\n",
    "help(flip_random_bit)"
   ]
  },
  {
   "cell_type": "code",
   "execution_count": null,
   "id": "4ba179e6",
   "metadata": {
    "hidden": true,
    "lines_to_next_cell": 2,
    "solution2": "hidden",
    "solution2_first": true
   },
   "outputs": [],
   "source": [
    "# TODO: Use the encrypted message \"amount:...\" as the ciphertext\n",
    "ciphertext = __TODO__\n",
    "# TODO: Use flip_random_bit to change the original ciphertext and try\n",
    "#       to decrypt it with the symmetric key. Execute this cell multiple times.\n",
    "altered_ciphertext = __TODO__\n",
    "altered_plaintext = aes_decrypt(__TODO__, altered_ciphertext)\n",
    "# TODO: Compare the expected plaintext and the one you get."
   ]
  },
  {
   "cell_type": "code",
   "execution_count": null,
   "id": "d07a9574",
   "metadata": {
    "hidden": true,
    "lines_to_next_cell": 2,
    "solution2": "hidden"
   },
   "outputs": [],
   "source": [
    "# Solution\n",
    "# TODO: Use the encrypted message \"amount:...\" as the ciphertext\n",
    "solution_key = secrets.token_bytes(32)\n",
    "ciphertext = aes_encrypt(key=solution_key, message=b\"amount: 0000000100.00 USD\")\n",
    "# TODO: Use flip_random_bit to change the original ciphertext and try\n",
    "#       to decrypt it with the symmetric key. Execute this cell multiple times.\n",
    "altered_ciphertext = flip_random_bit(data=ciphertext)\n",
    "\n",
    "orig_plaintext = aes_decrypt(key=solution_key, ciphertext=ciphertext)\n",
    "altered_plaintext = aes_decrypt(key=solution_key, ciphertext=altered_ciphertext)\n",
    "\n",
    "# TODO: Compare the expected plaintext and the one you get.\n",
    "print(f\"original: {orig_plaintext!r}\")\n",
    "print(f\" altered: {altered_plaintext!r}\")"
   ]
  },
  {
   "cell_type": "markdown",
   "id": "8f368054",
   "metadata": {
    "heading_collapsed": true
   },
   "source": [
    "# Part 2: Message Authentication & Integrity"
   ]
  },
  {
   "cell_type": "markdown",
   "id": "1c4c3b98",
   "metadata": {
    "heading_collapsed": true,
    "hidden": true
   },
   "source": [
    "## Task 3: <font color='gray'>Solution #1 Message Authentication Code (MAC)</gray>"
   ]
  },
  {
   "cell_type": "markdown",
   "id": "351f4b40",
   "metadata": {
    "hidden": true
   },
   "source": [
    "To check the integrity of a message we can **use also the MAC**, concatenated to the **ciphertext**.\n",
    "We apply **Encrypt-then-MAC** scheme, i.e. we MAC **the ciphertext** to ensure its integrity.\n",
    "Use additional functions:\n",
    "```python\n",
    "create_mac(key: bytes, data: bytes) -> bytes\n",
    "verify_mac(key: bytes, data: bytes, mac: bytes) -> bool\n",
    "```\n",
    "\n",
    "**Note:** In a real-world use case we must use a different key for the MAC. Here, we reuse the symmetric key for simplicity."
   ]
  },
  {
   "cell_type": "code",
   "execution_count": null,
   "id": "975b4b70",
   "metadata": {
    "hidden": true
   },
   "outputs": [],
   "source": [
    "# [OPTIONAL TODO]: Check the source code of the `create_mac` function. Is it familiar?\n",
    "import inspect\n",
    "\n",
    "print(inspect.getsource(create_mac))"
   ]
  },
  {
   "cell_type": "markdown",
   "id": "6679e366",
   "metadata": {
    "hidden": true
   },
   "source": [
    "**Task:** Try sending the message with the \"amount: ...\" again, but this time **include the MAC**"
   ]
  },
  {
   "cell_type": "markdown",
   "id": "aef91905",
   "metadata": {
    "heading_collapsed": true,
    "hidden": true
   },
   "source": [
    "### Customer's point of view"
   ]
  },
  {
   "cell_type": "code",
   "execution_count": null,
   "id": "bb9c3c8a",
   "metadata": {
    "hidden": true
   },
   "outputs": [],
   "source": [
    "# TODO: Encrypt the \"amount: ... \" message."
   ]
  },
  {
   "cell_type": "code",
   "execution_count": null,
   "id": "55cc1c30",
   "metadata": {
    "hidden": true
   },
   "outputs": [],
   "source": [
    "# TODO: Create the MAC value."
   ]
  },
  {
   "cell_type": "code",
   "execution_count": null,
   "id": "82fb8f5b",
   "metadata": {
    "hidden": true,
    "solution2": "hidden",
    "solution2_first": true
   },
   "outputs": [],
   "source": [
    "# TODO: Send `mac + ciphertext` to the bank."
   ]
  },
  {
   "cell_type": "code",
   "execution_count": null,
   "id": "7062c06b",
   "metadata": {
    "hidden": true,
    "solution2": "hidden"
   },
   "outputs": [],
   "source": [
    "# TODO: Encrypt the \"amount: ... \" message.\n",
    "ciphertext = aes_encrypt(key=symmetric_key, message=b\"amount: 000000100.00 USD\")"
   ]
  },
  {
   "cell_type": "code",
   "execution_count": null,
   "id": "ce36a794",
   "metadata": {
    "hidden": true,
    "solution2": "hidden"
   },
   "outputs": [],
   "source": [
    "# TODO: Create the MAC value.\n",
    "mac = create_mac(key=symmetric_key, data=ciphertext)"
   ]
  },
  {
   "cell_type": "code",
   "execution_count": null,
   "id": "0bf726d8",
   "metadata": {
    "hidden": true,
    "solution2": "hidden"
   },
   "outputs": [],
   "source": [
    "# TODO: Send `mac + ciphertext` to the bank.\n",
    "send_message(uco_from=customer_uco, uco_to=bank_uco, content=mac + ciphertext)"
   ]
  },
  {
   "cell_type": "markdown",
   "id": "f317b2de",
   "metadata": {
    "heading_collapsed": true,
    "hidden": true
   },
   "source": [
    "### Bank's point of view"
   ]
  },
  {
   "cell_type": "code",
   "execution_count": null,
   "id": "f6d21394",
   "metadata": {
    "hidden": true
   },
   "outputs": [],
   "source": [
    "# TODO: Receive the new encrypted message with the MAC prefixed."
   ]
  },
  {
   "cell_type": "code",
   "execution_count": null,
   "id": "38a80c1e",
   "metadata": {
    "hidden": true,
    "lines_to_next_cell": 2,
    "solution2": "hidden",
    "solution2_first": true
   },
   "outputs": [],
   "source": [
    "# TODO: The MAC is a single block of data prepended to the ciphertext.\n",
    "#       Therefore you need to split the message into 16B `mac` and the ciphertext,\n",
    "#       which is the rest of the data.\n",
    "# TODO: Verify the MAC using `verify_mac`\n",
    "# TODO: Only if the MAC verifies, decrypt the ciphertext using the symmetric key."
   ]
  },
  {
   "cell_type": "code",
   "execution_count": null,
   "id": "19fbdc4b",
   "metadata": {
    "hidden": true,
    "solution2": "hidden"
   },
   "outputs": [],
   "source": [
    "# TODO: Receive the new encrypted message with the MAC prefixed.\n",
    "mac_and_encrypted_msg = recv_message(uco=bank_uco)[customer_uco]"
   ]
  },
  {
   "cell_type": "code",
   "execution_count": null,
   "id": "6ddf2356",
   "metadata": {
    "hidden": true,
    "lines_to_next_cell": 2,
    "solution2": "hidden"
   },
   "outputs": [],
   "source": [
    "# TODO: The MAC is a single block of data prepended to the ciphertext.\n",
    "#       Therefore you need to split the message into 16B `mac` and the ciphertext,\n",
    "#       which is the rest of the data.\n",
    "mac = mac_and_encrypted_msg[:16]\n",
    "ciphertext = mac_and_encrypted_msg[16:]\n",
    "# TODO: Verify the MAC using `verify_mac`\n",
    "if verify_mac(key=symmetric_key, mac=mac, data=ciphertext):\n",
    "    # TODO: Only if the MAC verifies, decrypt the ciphertext using the symmetric key.\n",
    "    plaintext = aes_decrypt(key=symmetric_key, ciphertext=ciphertext)\n",
    "    print(plaintext)\n",
    "else:\n",
    "    print(\"MAC does not verify!\")"
   ]
  },
  {
   "cell_type": "markdown",
   "id": "3f96f1dc",
   "metadata": {
    "heading_collapsed": true,
    "hidden": true
   },
   "source": [
    "## Task 4: <font color='gray'>Solution #2 Digital Signature</gray>"
   ]
  },
  {
   "cell_type": "markdown",
   "id": "11619b51",
   "metadata": {
    "hidden": true
   },
   "source": [
    "Instead of sending a MAC of the message, the sender (the customer in our example)\n",
    "can **digitally sign** the message and the receiver (the bank) can **verify the signature**.\n",
    "Use additional functions `create_signature` and `verify_signature`:\n",
    "```python\n",
    "create_signature(private_key: rsa.RSAPrivateKey, data: bytes) -> bytes\n",
    "verify_signature(\n",
    "    public_key: rsa.RSAPublicKey, data: bytes, signature: bytes\n",
    ") -> bool\n",
    "```"
   ]
  },
  {
   "cell_type": "markdown",
   "id": "521f843b",
   "metadata": {
    "hidden": true
   },
   "source": [
    "**Task:** Try sending the message with the \"amount: ...\" again, but this time **include the digital signature**"
   ]
  },
  {
   "cell_type": "markdown",
   "id": "e547fa2a",
   "metadata": {
    "heading_collapsed": true,
    "hidden": true
   },
   "source": [
    "### Customer's point of view"
   ]
  },
  {
   "cell_type": "code",
   "execution_count": null,
   "id": "72d9d140",
   "metadata": {
    "hidden": true
   },
   "outputs": [],
   "source": [
    "# TODO: Generate an RSA private/public keypair for signing."
   ]
  },
  {
   "cell_type": "code",
   "execution_count": null,
   "id": "df580f9b",
   "metadata": {
    "hidden": true
   },
   "outputs": [],
   "source": [
    "# TODO: Publish your public RSA key."
   ]
  },
  {
   "cell_type": "code",
   "execution_count": null,
   "id": "c626c8cf",
   "metadata": {
    "hidden": true,
    "solution2": "hidden",
    "solution2_first": true
   },
   "outputs": [],
   "source": [
    "# TODO: Create a signature of the encrypted message with the \"amount: ...\".\n",
    "# TODO: Send both the `signature + ciphertext`."
   ]
  },
  {
   "cell_type": "code",
   "execution_count": null,
   "id": "196a279d",
   "metadata": {
    "hidden": true,
    "solution2": "hidden"
   },
   "outputs": [],
   "source": [
    "# TODO: Generate an RSA private/public keypair for signing.\n",
    "customer_private_key = rsa.generate_private_key(public_exponent=65537, key_size=2048)\n",
    "customer_public_key = customer_private_key.public_key()"
   ]
  },
  {
   "cell_type": "code",
   "execution_count": null,
   "id": "2045bb07",
   "metadata": {
    "hidden": true,
    "solution2": "hidden"
   },
   "outputs": [],
   "source": [
    "# TODO: Publish your public RSA key.\n",
    "publish_key(uco=bank_uco, key=customer_public_key)"
   ]
  },
  {
   "cell_type": "code",
   "execution_count": null,
   "id": "dc77dc6c",
   "metadata": {
    "hidden": true,
    "solution2": "hidden"
   },
   "outputs": [],
   "source": [
    "# TODO: Create a signature of the encrypted message with the \"amount: ...\".\n",
    "# TODO: Send both the `signature + ciphertext`.\n",
    "sig = create_signature(private_key=customer_private_key, data=ciphertext)\n",
    "send_message(uco_from=customer_uco, uco_to=bank_uco, content=sig + ciphertext)"
   ]
  },
  {
   "cell_type": "markdown",
   "id": "d441b704",
   "metadata": {
    "heading_collapsed": true,
    "hidden": true
   },
   "source": [
    "### Bank's point of view"
   ]
  },
  {
   "cell_type": "code",
   "execution_count": null,
   "id": "18bc44af",
   "metadata": {
    "hidden": true,
    "solution2": "hidden",
    "solution2_first": true
   },
   "outputs": [],
   "source": [
    "# TODO: Fetch customer's public key.\n",
    "customer_public_key = __TODO__\n",
    "# TODO: Receive customers signature and message.\n",
    "# TODO: Split the received data into the signature,\n",
    "#       which is `customer_key.key_size // 8` bytes long and\n",
    "#       into the actual ciphertext, which is the rest.\n",
    "signature_byte_size = customer_public_key.key_size // 8\n",
    "# TODO: Only if the signature verifies, you may decrypt the ciphertext."
   ]
  },
  {
   "cell_type": "code",
   "execution_count": null,
   "id": "2f2165cd",
   "metadata": {
    "hidden": true,
    "solution2": "hidden"
   },
   "outputs": [],
   "source": [
    "# TODO: Fetch customer's public key.\n",
    "customer_public_key = fetch_key(customer_uco)\n",
    "# TODO: Receive customers signature and message.\n",
    "sig_and_ciphertext = recv_message(bank_uco)[customer_uco]\n",
    "# TODO: Split the received data into the signature,\n",
    "#       which is `customer_key.key_size // 8` bytes long and\n",
    "#       into the actual ciphertext, which is the rest.\n",
    "signature_byte_size = customer_public_key.key_size // 8\n",
    "sig = sig_and_ciphertext[:signature_byte_size]\n",
    "ciphertext = sig_and_ciphertext[signature_byte_size:]\n",
    "# TODO: Only if the signature verifies, you may decrypt the ciphertext.\n",
    "if verify_signature(public_key=bank_public_key, data=ciphertext, signature=sig):\n",
    "    plaintext = aes_decrypt(key=symmetric_key, ciphertext=ciphertext)\n",
    "    print(plaintext)"
   ]
  }
 ],
 "metadata": {
  "jupytext": {
   "formats": "ipynb,py:light"
  },
  "kernelspec": {
   "display_name": "Python 3 (ipykernel)",
   "language": "python",
   "name": "python3"
  },
  "language_info": {
   "codemirror_mode": {
    "name": "ipython",
    "version": 3
   },
   "file_extension": ".py",
   "mimetype": "text/x-python",
   "name": "python",
   "nbconvert_exporter": "python",
   "pygments_lexer": "ipython3",
   "version": "3.9.10"
  }
 },
 "nbformat": 4,
 "nbformat_minor": 5
}
